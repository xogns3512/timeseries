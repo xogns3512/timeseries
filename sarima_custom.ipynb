{
 "cells": [
  {
   "cell_type": "code",
   "execution_count": 1,
   "metadata": {},
   "outputs": [],
   "source": [
    "def sarima_model(train_data, parameter_dic):\n",
    "    error_threshold = int(parameter_dic[\"error_threshold\"])\n",
    "    imputation_window_size = int(parameter_dic[\"imputation_window_size\"])\n",
    "    seasonality = int(parameter_dic[\"seasonality\"])\n",
    "\n",
    "    imputated_data = imputation(train_data, seasonality)\n",
    "    vst_value, value_min = VST(imputated_data)\n",
    "    vst_pred, converge_check = SARIMA_fit(vst_value, seasonality)\n",
    "\n",
    "    if converge_check == True:\n",
    "        pred = SARIMA_prediction(vst_pred, value_min)\n",
    "        pe1 = SARIMA_predictionError(vst_pred, imputated_data, error_threshold)\n",
    "        errorcode = 0\n",
    "    else:\n",
    "        pred, pe1, errorcode = None, None, \"301\"\n",
    "\n",
    "    return pred, pe1, errorcode"
   ]
  },
  {
   "cell_type": "code",
   "execution_count": 2,
   "metadata": {},
   "outputs": [],
   "source": [
    "def SARIMA_fit(vst_value, seasonality):\n",
    "    try:\n",
    "        vst_value = vst_value.reset_index(drop=True)\n",
    "        vst_test_target = vst_value[(seasonality + 1) : len(vst_value)].reset_index(\n",
    "            drop=True\n",
    "        )\n",
    "        Y_Sdiff = vst_value[1 : (len(vst_value) - seasonality)].reset_index(drop=True)\n",
    "        Y_SAR = vst_value[seasonality : (len(vst_value) - 1)].reset_index(\n",
    "            drop=True\n",
    "        ) - vst_value[0 : (len(vst_value) - seasonality - 1)].reset_index(drop=True)\n",
    "\n",
    "        A = np.vstack([Y_SAR, np.ones(len(Y_SAR))]).T\n",
    "        y = vst_test_target - Y_Sdiff\n",
    "\n",
    "        leastSQ = np.linalg.lstsq(A, y)\n",
    "        m, c = leastSQ[0]\n",
    "        lse_fit = (\n",
    "            vst_value[len(vst_value) - seasonality]\n",
    "            + m\n",
    "            * (\n",
    "                vst_value[len(vst_value) - 1]\n",
    "                - vst_value[len(vst_value) - seasonality - 1]\n",
    "            )\n",
    "            + c\n",
    "        )\n",
    "        rss = np.sqrt(leastSQ[1][0] / len(A))\n",
    "\n",
    "        class vst_pred_class(object):\n",
    "            def __init__(self, predicted_mean, se_mean):\n",
    "                self.predicted_mean = predicted_mean\n",
    "                self.se_mean = se_mean\n",
    "\n",
    "        vst_pred = vst_pred_class(lse_fit, rss)\n",
    "        converge_check = True\n",
    "        return vst_pred, converge_check\n",
    "    except Exception as ex:\n",
    "        print(ex)\n",
    "        return None, False"
   ]
  },
  {
   "cell_type": "code",
   "execution_count": 3,
   "metadata": {},
   "outputs": [],
   "source": [
    "\n",
    "def SARIMA_prediction(vst_pred, value_min):\n",
    "    try:\n",
    "        if value_min < 0:\n",
    "            pred = float(np.power(vst_pred.predicted_mean, 2)) + value_min\n",
    "        else:\n",
    "            pred = float(np.power(vst_pred.predicted_mean, 2))\n",
    "        return pred\n",
    "    except Exception as ex:\n",
    "        print(ex)\n",
    "        return 0\n"
   ]
  },
  {
   "cell_type": "code",
   "execution_count": 4,
   "metadata": {},
   "outputs": [],
   "source": [
    "\n",
    "def SARIMA_predictionError(vst_pred, value, error_threshold):\n",
    "    weight1 = 0.5\n",
    "\n",
    "    try:\n",
    "        pred = float(np.power(vst_pred.predicted_mean, 2))\n",
    "        confi_High = float(\n",
    "            np.power((vst_pred.predicted_mean + vst_pred.se_mean * error_threshold), 2)\n",
    "        )\n",
    "        confidenceError = confi_High - pred\n",
    "\n",
    "        pe1 = confidenceError + weight1\n",
    "\n",
    "        return pe1\n",
    "    except Exception as ex:\n",
    "        print(ex)\n",
    "        return \"SARIMA_predictionError error\"\n"
   ]
  },
  {
   "cell_type": "code",
   "execution_count": 5,
   "metadata": {},
   "outputs": [],
   "source": [
    "\n",
    "def VST(value):\n",
    "    try:\n",
    "        # 음수 데이터의 경우 vst를 적용하기 위해 최소값으로 선형변환 하기 위함\n",
    "        value_min = np.min(value)\n",
    "\n",
    "        if np.min(value) < 0:\n",
    "            value_tmp = value - value_min\n",
    "            vst_value = np.sqrt(value_tmp)\n",
    "            return vst_value, value_min\n",
    "        else:\n",
    "            vst_value = np.sqrt(value)\n",
    "            return vst_value, value_min\n",
    "    except Exception as ex:\n",
    "        print(ex)\n",
    "        return \"VST error\"\n"
   ]
  }
 ],
 "metadata": {
  "kernelspec": {
   "display_name": "Python 3",
   "language": "python",
   "name": "python3"
  },
  "language_info": {
   "codemirror_mode": {
    "name": "ipython",
    "version": 3
   },
   "file_extension": ".py",
   "mimetype": "text/x-python",
   "name": "python",
   "nbconvert_exporter": "python",
   "pygments_lexer": "ipython3",
   "version": "3.7.1"
  }
 },
 "nbformat": 4,
 "nbformat_minor": 2
}
