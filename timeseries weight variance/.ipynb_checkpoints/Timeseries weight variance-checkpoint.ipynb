{
 "cells": [
  {
   "cell_type": "markdown",
   "metadata": {},
   "source": [
    "library"
   ]
  },
  {
   "cell_type": "code",
   "execution_count": 1,
   "metadata": {},
   "outputs": [],
   "source": [
    "\n",
    "import numpy as np\n",
    "import pandas as pd\n",
    "import sys\n",
    "import json\n",
    "from datetime import datetime, timedelta, date\n",
    "import copy\n",
    "import sys\n",
    "import sklearn\n",
    "\n",
    "\n",
    "import matplotlib.pyplot as plt\n",
    "import matplotlib.mlab as mlab\n",
    "from pylab import plot, ylim, xlim, show, xlabel, ylabel, grid\n"
   ]
  },
  {
   "cell_type": "markdown",
   "metadata": {},
   "source": [
    "exponentially decreasing weight"
   ]
  },
  {
   "cell_type": "code",
   "execution_count": 2,
   "metadata": {},
   "outputs": [],
   "source": [
    "\n",
    "w=0.90\n",
    "\n",
    "expo_list=list()\n",
    "for i in range(0,80):\n",
    "  expo_list.append((np.power(w,i))/((1-np.power(w,80))/(1-w)))\n"
   ]
  },
  {
   "cell_type": "code",
   "execution_count": 3,
   "metadata": {},
   "outputs": [
    {
     "data": {
      "text/plain": [
       "[<matplotlib.lines.Line2D at 0x1b3beac4b00>]"
      ]
     },
     "execution_count": 3,
     "metadata": {},
     "output_type": "execute_result"
    },
    {
     "data": {
      "image/png": "[encoded data removed]",
      "text/plain": [
       "<Figure size 432x288 with 1 Axes>"
      ]
     },
     "metadata": {
      "needs_background": "light"
     },
     "output_type": "display_data"
    }
   ],
   "source": [
    "# fraction = 0.1\n",
    "fig, ax = plt.subplots()\n",
    "ax.plot(expo_list[::-1])"
   ]
  },
  {
   "cell_type": "code",
   "execution_count": 4,
   "metadata": {},
   "outputs": [],
   "source": [
    "def weighted_variance(values, weights):\n",
    "    \"\"\"\n",
    "    Return the weighted average and standard deviation.\n",
    "    values, weights -- Numpy ndarrays with the same shape.\n",
    "    \"\"\"\n",
    "    average = np.average(values, weights=weights)\n",
    "    # Fast and numerically precise:\n",
    "    variance = np.average((values-average)**2, weights=weights)\n",
    "    return variance"
   ]
  },
  {
   "cell_type": "code",
   "execution_count": 5,
   "metadata": {},
   "outputs": [],
   "source": [
    "def ndiffs(value, seasonal_parameter):\n",
    "  fordiff=value[::-1]\n",
    "  ndiffs_list=list()\n",
    "  for i in range(0, len(fordiff)-seasonal_parameter):\n",
    "    ndiffs_list.append(fordiff[i]-fordiff[i+seasonal_parameter])\n",
    "  return ndiffs_list"
   ]
  },
  {
   "cell_type": "markdown",
   "metadata": {},
   "source": [
    "extract exponentially decreasing weight variance"
   ]
  },
  {
   "cell_type": "code",
   "execution_count": 6,
   "metadata": {},
   "outputs": [],
   "source": [
    "tsvalue = timeseries_value\n",
    "theta=0.1\n",
    "w=1-theta\n",
    "\n",
    "# seasonal diffrenciation\n",
    "diff_value=np.diff(tsvalue)\n",
    "seasonal_diff_value=ndiffs(diff_value,seasonal_parameter)\n",
    "\n",
    "# 가중표본분산\n",
    "length_data=len(seasonal_diff_value)\n",
    "expo_list=list()\n",
    "\n",
    "for k in range(0,length_data):\n",
    "    expo_list.append((np.power(w,k))/((1-np.power(w,length_data))/(1-w)))\n",
    "\n",
    "weight_variance = weighted_variance(seasonal_diff_value, expo_list)"
   ]
  }
 ],
 "metadata": {
  "kernelspec": {
   "display_name": "Python 3",
   "language": "python",
   "name": "python3"
  },
  "language_info": {
   "codemirror_mode": {
    "name": "ipython",
    "version": 3
   },
   "file_extension": ".py",
   "mimetype": "text/x-python",
   "name": "python",
   "nbconvert_exporter": "python",
   "pygments_lexer": "ipython3",
   "version": "3.7.1"
  }
 },
 "nbformat": 4,
 "nbformat_minor": 2
}
