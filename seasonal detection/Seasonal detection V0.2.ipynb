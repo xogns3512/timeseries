{
 "cells": [
  {
   "cell_type": "markdown",
   "metadata": {},
   "source": [
    "Time series seasonal detection version_0.2"
   ]
  },
  {
   "cell_type": "code",
   "execution_count": 2,
   "metadata": {},
   "outputs": [],
   "source": [
    "\n",
    "def seasonal_detection(ts_value):\n",
    "  \n",
    "  def acf_calcul(ts_value,timelag):\n",
    "    diff_data = np.diff(ts_value.fillna(0))\n",
    "    fore = np.append(diff_data[timelag[0]:], diff_data[:timelag[0]])\n",
    "    one_acf = np.corrcoef(fore,diff_data)[0][1]\n",
    "    return timelag[0],one_acf\n",
    "  \n",
    "  def extract_seasonal(value,candid_seasonal_list):\n",
    "    try:\n",
    "      candid_seasonal_df = pd.DataFrame(candid_seasonal_list)\n",
    "      result = candid_seasonal_df.apply(lambda x: acf_calcul(full_value,x) ,axis=1)\n",
    "      acf_df = pd.DataFrame(list(result),columns=[\"timelag\",\"acf_value\"])\n",
    "      test_side = 3/np.sqrt(len(value))\n",
    "      if np.sum(acf_df.acf_value > test_side) == 0:\n",
    "        seasonal_parameter=0\n",
    "      else :\n",
    "        seasonal_parameter = acf_df[acf_df.acf_value > test_side].timelag.iloc[0]\n",
    "      return seasonal_parameter\n",
    "\n",
    "    except Exception as ex:\n",
    "      print(\"extract_seasonal error: {}\".format(ex))\n",
    "      \n",
    "  # seasonal parameter extract=\n",
    "  candid_seasonal_list = [7,14,15]\n",
    "  realvalue_seasonal = extract_seasonal(onerow_tsvalue, candid_seasonal_list)\n",
    "  \n",
    "  if np.sum((~np.isnan(ts_value)).astype(int)) / (len(ts_value)-1) < 0.5 :\n",
    "    index_value = (~np.isnan(ts_value)).astype(int)\n",
    "    index_seasonal = extract_seasonal(index_value, [realvalue_seasonal])\n",
    "    seasonal_parameter = index_seasonal\n",
    "  else : \n",
    "    seasonal_parameter = realvalue_seasonal\n",
    "  \n",
    "  return seasonal_parameter"
   ]
  },
  {
   "cell_type": "code",
   "execution_count": null,
   "metadata": {},
   "outputs": [],
   "source": []
  }
 ],
 "metadata": {
  "kernelspec": {
   "display_name": "Python 3",
   "language": "python",
   "name": "python3"
  },
  "language_info": {
   "codemirror_mode": {
    "name": "ipython",
    "version": 3
   },
   "file_extension": ".py",
   "mimetype": "text/x-python",
   "name": "python",
   "nbconvert_exporter": "python",
   "pygments_lexer": "ipython3",
   "version": "3.7.1"
  }
 },
 "nbformat": 4,
 "nbformat_minor": 2
}
