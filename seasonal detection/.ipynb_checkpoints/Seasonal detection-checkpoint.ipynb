{
 "cells": [
  {
   "cell_type": "markdown",
   "metadata": {},
   "source": [
    "Time series seasonal detection"
   ]
  },
  {
   "cell_type": "code",
   "execution_count": 1,
   "metadata": {},
   "outputs": [],
   "source": [
    "def seasonal_detection(ts_value):\n",
    "  \n",
    "  def acf_calcul(ts_value,timelag):        \n",
    "    diff_data = np.diff(ts_value.fillna(0))\n",
    "    fore = np.append(diff_data[timelag[0]:], diff_data[:timelag[0]])\n",
    "    one_acf = np.corrcoef(fore,diff_data)[0][1]\n",
    "    return timelag[0], one_acf \n",
    "  \n",
    "  try:\n",
    "    fill_value = ts_value.fillna(0)\n",
    "    \n",
    "    # candid seasonal parameter setting\n",
    "    candid_seasonal_list = [7,14,15]\n",
    "    candid_seasonal_df = pd.DataFrame(candid_seasonal_list)\n",
    "\n",
    "    result = candid_seasonal_df.apply(lambda x: acf_calcul(fill_value,x) ,axis=1)\n",
    "    acf_df = pd.DataFrame(list(result),columns=[\"timelag\",\"acf_value\"])\n",
    "    \n",
    "    # threshold 2.58\n",
    "    test_side = 2.58/np.sqrt(len(fill_value))\n",
    "    \n",
    "    if np.sum(acf_df.acf_value > test_side) == 0:\n",
    "      seasonal_parameter=0\n",
    "    else :\n",
    "      seasonal_parameter = acf_df[acf_df.acf_value > test_side].timelag.iloc[0]\n",
    "\n",
    "    return seasonal_parameter\n",
    "\n",
    "  except Exception as ex:\n",
    "    print(\"seasonal_detection error: {}\".format(ex))\n",
    "    "
   ]
  }
 ],
 "metadata": {
  "kernelspec": {
   "display_name": "Python 3",
   "language": "python",
   "name": "python3"
  },
  "language_info": {
   "codemirror_mode": {
    "name": "ipython",
    "version": 3
   },
   "file_extension": ".py",
   "mimetype": "text/x-python",
   "name": "python",
   "nbconvert_exporter": "python",
   "pygments_lexer": "ipython3",
   "version": "3.7.1"
  }
 },
 "nbformat": 4,
 "nbformat_minor": 2
}
